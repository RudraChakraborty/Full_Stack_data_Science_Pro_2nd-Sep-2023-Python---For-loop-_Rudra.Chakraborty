{
 "cells": [
  {
   "cell_type": "markdown",
   "id": "fa533b7d",
   "metadata": {},
   "source": [
    "# Basic Level:"
   ]
  },
  {
   "cell_type": "markdown",
   "id": "d4d2819e",
   "metadata": {},
   "source": [
    "1. Write a Python program to print the numbers from 1 to 10 using a `for` loop."
   ]
  },
  {
   "cell_type": "code",
   "execution_count": 1,
   "id": "eed90936",
   "metadata": {},
   "outputs": [
    {
     "name": "stdout",
     "output_type": "stream",
     "text": [
      "1\n",
      "2\n",
      "3\n",
      "4\n",
      "5\n",
      "6\n",
      "7\n",
      "8\n",
      "9\n",
      "10\n"
     ]
    }
   ],
   "source": [
    "for i in list(range(1,11)):\n",
    "    print(i)"
   ]
  },
  {
   "cell_type": "markdown",
   "id": "8566b6a0",
   "metadata": {},
   "source": [
    "2. Create a program that calculates the sum of all numbers in a list using a `for` loop."
   ]
  },
  {
   "cell_type": "code",
   "execution_count": 8,
   "id": "00b309e0",
   "metadata": {},
   "outputs": [
    {
     "name": "stdout",
     "output_type": "stream",
     "text": [
      "your list is [8, 4, 2, 0, 2, 3] and sum of all number in list is: 19\n"
     ]
    }
   ],
   "source": [
    "def calculate_sum(number):\n",
    "    total_sum=0\n",
    "    for num in number:\n",
    "        total_sum += num\n",
    "    return total_sum\n",
    "\n",
    "number_list=[8,4,2,0,2,3]\n",
    "result= calculate_sum(number_list)\n",
    "print(f\"your list is {number_list} and sum of all number in list is:\",result)"
   ]
  },
  {
   "cell_type": "markdown",
   "id": "d555527a",
   "metadata": {},
   "source": [
    "3. Write a program to print the characters of a string in reverse order using a `for` loop."
   ]
  },
  {
   "cell_type": "code",
   "execution_count": 18,
   "id": "359cfbe6",
   "metadata": {},
   "outputs": [
    {
     "name": "stdout",
     "output_type": "stream",
     "text": [
      "Your string is'The greatest glory in living lies not in never falling, but in rising every time we fall' and String in reverse order:\n",
      "llaf ew emit yreve gnisir ni tub ,gnillaf reven ni ton seil gnivil ni yrolg tsetaerg ehT\n"
     ]
    }
   ],
   "source": [
    "def reverse_string(string):\n",
    "    reverse_string=\"\"\n",
    "    for char in reversed(string):\n",
    "        reverse_string += char\n",
    "    print(reverse_string)\n",
    "\n",
    "user_input = input(\"Enter a number to calculate its factorial: \")\n",
    "print(f\"Your string is'{user_input}' and String in reverse order:\")\n",
    "reverse_string(user_input)\n",
    "    "
   ]
  },
  {
   "cell_type": "markdown",
   "id": "e2f71a56",
   "metadata": {},
   "source": [
    "4. Develop a program that finds the factorial of a given number using a `for` loop."
   ]
  },
  {
   "cell_type": "code",
   "execution_count": 19,
   "id": "2d82d1aa",
   "metadata": {},
   "outputs": [
    {
     "name": "stdout",
     "output_type": "stream",
     "text": [
      "The factorial of 5 is: 120\n"
     ]
    }
   ],
   "source": [
    "def calculate_factorial(number):\n",
    "    factorial_result=1\n",
    "    for i in range(1, number +1):\n",
    "        factorial_result *=i\n",
    "    return factorial_result\n",
    "\n",
    "user_input = int(input(\"Enter a number to calculate its factorial: \"))\n",
    "result = calculate_factorial(user_input)\n",
    "print(f\"The factorial of {user_input} is: {result}\")"
   ]
  },
  {
   "cell_type": "markdown",
   "id": "252c1c79",
   "metadata": {},
   "source": [
    "5. Create a program to print the multiplication table of a given number using a `for` loop."
   ]
  },
  {
   "cell_type": "code",
   "execution_count": 30,
   "id": "5d986853",
   "metadata": {},
   "outputs": [
    {
     "name": "stdout",
     "output_type": "stream",
     "text": [
      "Multiplication tabel for 19\n",
      "19 x 1 = 19\n",
      "19 x 2 = 38\n",
      "19 x 3 = 57\n",
      "19 x 4 = 76\n",
      "19 x 5 = 95\n",
      "19 x 6 = 114\n",
      "19 x 7 = 133\n",
      "19 x 8 = 152\n",
      "19 x 9 = 171\n",
      "19 x 10 = 190\n"
     ]
    }
   ],
   "source": [
    "def multiplication_tabel(number):\n",
    "    print(f\"Multiplication tabel for {number}\")\n",
    "    for i in range(1, 11):\n",
    "        result = number * i\n",
    "        print(f\"{number} x {i} = {result}\")\n",
    "\n",
    "input_string=int(input(\"Enter the number to get its multiplication table:\"))\n",
    "multiplication_tabel(input_string)"
   ]
  },
  {
   "cell_type": "markdown",
   "id": "1c585d8b",
   "metadata": {},
   "source": [
    "6. Write a program that counts the number of even and odd numbers in a list using a `for` loop."
   ]
  },
  {
   "cell_type": "code",
   "execution_count": 28,
   "id": "7729dfef",
   "metadata": {},
   "outputs": [
    {
     "name": "stdout",
     "output_type": "stream",
     "text": [
      "Even numbers: 5\n",
      "odd numbers: 5\n"
     ]
    }
   ],
   "source": [
    "def even_and_odd_count(number):\n",
    "    odd_count = 0\n",
    "    even_count = 0\n",
    "    for num in number:\n",
    "        if num % 2==0:\n",
    "            even_count += 1\n",
    "        else:\n",
    "            odd_count += 1\n",
    "    return even_count,odd_count\n",
    "\n",
    "number_list=[11,12,13,14,15,16,17,18,19,20]\n",
    "even_count, odd_count=even_and_odd_count(number_list)\n",
    "\n",
    "print(f\"Even numbers: {even_count}\")\n",
    "print(f\"odd numbers: {even_count}\")"
   ]
  },
  {
   "cell_type": "markdown",
   "id": "22a9416a",
   "metadata": {},
   "source": [
    "7. Develop a program that prints the squares of numbers from 1 to 5 using a `for` loop."
   ]
  },
  {
   "cell_type": "code",
   "execution_count": 32,
   "id": "cd6b6dd6",
   "metadata": {},
   "outputs": [
    {
     "name": "stdout",
     "output_type": "stream",
     "text": [
      "Sqrares of number from 1 to 5:\n",
      "The '1' square is 1\n",
      "The '2' square is 4\n",
      "The '3' square is 9\n",
      "The '4' square is 16\n",
      "The '5' square is 25\n"
     ]
    }
   ],
   "source": [
    "def squares():\n",
    "    print(\"Sqrares of number from 1 to 5:\")\n",
    "    for i in range(1,6):\n",
    "        sqares=i**2\n",
    "        print(f\"The '{i}' square is {sqares}\")\n",
    "\n",
    "squares()"
   ]
  },
  {
   "cell_type": "markdown",
   "id": "ca61fb52",
   "metadata": {},
   "source": [
    "8. Create a program to find the length of a string without using the `len()` function."
   ]
  },
  {
   "cell_type": "code",
   "execution_count": 40,
   "id": "ad1b7be8",
   "metadata": {},
   "outputs": [
    {
     "name": "stdout",
     "output_type": "stream",
     "text": [
      "The'The greatest glory in living lies not in never falling, but in rising every time we fall' length of a string:88\n"
     ]
    }
   ],
   "source": [
    "def string_length(input_string):\n",
    "    count=0\n",
    "    for _ in input_string:\n",
    "        count += 1\n",
    "    return count \n",
    "\n",
    "input_string=input(\"Enter the string:\")\n",
    "length=string_length(input_string)\n",
    "print(f\"The'{input_string}' length of a string:{length}\")\n"
   ]
  },
  {
   "cell_type": "markdown",
   "id": "080084de",
   "metadata": {},
   "source": [
    "9. Write a program that calculates the average of a list of numbers using a `for` loop."
   ]
  },
  {
   "cell_type": "code",
   "execution_count": 3,
   "id": "14c30903",
   "metadata": {},
   "outputs": [
    {
     "name": "stdout",
     "output_type": "stream",
     "text": [
      "The average of the numbers is: 45.86666666666667\n"
     ]
    }
   ],
   "source": [
    "def cal_avg(numbers):\n",
    "    if not numbers:\n",
    "        return None\n",
    "\n",
    "    total_sum = 0\n",
    "    for num in numbers:\n",
    "        total_sum += num\n",
    "    \n",
    "    avg = total_sum/len(numbers)\n",
    "    return avg\n",
    "\n",
    "num_list=[22,25,45,60,48,5,6,78,68,75,72,82,94,6,2]\n",
    "avg_result=cal_avg(num_list)\n",
    "\n",
    "if avg_result is not None:\n",
    "    print(f\"The average of the numbers is: {avg_result}\")\n",
    "else:\n",
    "    print(\"The list is empty.\")\n"
   ]
  },
  {
   "cell_type": "markdown",
   "id": "018453f7",
   "metadata": {},
   "source": [
    "10. Develop a program that prints the first `n` Fibonacci numbers using a `for` loop."
   ]
  },
  {
   "cell_type": "code",
   "execution_count": 10,
   "id": "ddc29f28",
   "metadata": {},
   "outputs": [
    {
     "name": "stdout",
     "output_type": "stream",
     "text": [
      "The first '12' Fibonacci numbers are: [0, 1, 1, 2, 3, 5, 8, 13, 21, 34, 55, 89]\n"
     ]
    }
   ],
   "source": [
    "def fib_sequence(n):\n",
    "    fib_num=[0,1]\n",
    "\n",
    "    for _ in range(2,n):\n",
    "        next_num=fib_num[-1]+fib_num[-2]\n",
    "        fib_num.append(next_num)\n",
    "    return fib_num\n",
    "\n",
    "n=int(input(\"Enter the valu of n fibonacci number\"))\n",
    "\n",
    "if n<=0:\n",
    "    print(\"Please enter a positive integer\")\n",
    "else:\n",
    "    result=fib_sequence(n)\n",
    "    print(f\"The first '{n}' Fibonacci numbers are: {result}\")"
   ]
  },
  {
   "cell_type": "markdown",
   "id": "00c19878",
   "metadata": {},
   "source": [
    "# Intermediate Level:"
   ]
  },
  {
   "cell_type": "markdown",
   "id": "b6781568",
   "metadata": {},
   "source": [
    "11. Write a program to check if a given list contains any duplicates using a `for` loop."
   ]
  },
  {
   "cell_type": "code",
   "execution_count": 20,
   "id": "7f224686",
   "metadata": {},
   "outputs": [
    {
     "name": "stdout",
     "output_type": "stream",
     "text": [
      "The '1 2 3 4 5 6  7 8 9 ' list does not contain duplicates.\n"
     ]
    }
   ],
   "source": [
    "def duplicates(input_list):\n",
    "    seen_element=set()\n",
    "\n",
    "    for element in input_list:\n",
    "        if element in seen_element:\n",
    "            return True\n",
    "        seen_element.add(element)\n",
    "    return False\n",
    "\n",
    "user_input=input(\"Enter a list of number separeted by spaces: \")\n",
    "num_list= [int(x) for x in user_input.split()]\n",
    "\n",
    "if duplicates(num_list):\n",
    "    print(f\"The '{user_input}' list contains duplicates.\")\n",
    "else:\n",
    "    print(f\"The '{user_input}' list does not contain duplicates.\")"
   ]
  },
  {
   "cell_type": "markdown",
   "id": "c382da9b",
   "metadata": {},
   "source": [
    "12. Create a program that prints the prime numbers in a given range using a `for` loop."
   ]
  },
  {
   "cell_type": "code",
   "execution_count": 30,
   "id": "73cbdb7f",
   "metadata": {},
   "outputs": [
    {
     "name": "stdout",
     "output_type": "stream",
     "text": [
      "Prime numbers in the range 5 to 50:\n",
      "5\n",
      "7\n",
      "11\n",
      "13\n",
      "17\n",
      "19\n",
      "23\n",
      "29\n",
      "31\n",
      "37\n",
      "41\n",
      "43\n",
      "47\n"
     ]
    }
   ],
   "source": [
    "def is_prime(numbers):\n",
    "    if numbers < 2:\n",
    "        return False\n",
    "    \n",
    "    for i in range(2,int(numbers**0.5)+1):\n",
    "        if numbers % i ==0:\n",
    "            return False\n",
    "    return True\n",
    "\n",
    "def print_prime_num(start,end):\n",
    "    print(f\"Prime numbers in the range {start} to {end}:\")\n",
    "    for num in range (start, end + 1):\n",
    "        if is_prime(num):\n",
    "            print(num)\n",
    "\n",
    "start_range=int(input(\"Enter the start of the range: \"))\n",
    "end_range=int(input(\"Enter the end of the range: \"))\n",
    "\n",
    "print_prime_num(start_range,end_range)"
   ]
  },
  {
   "cell_type": "markdown",
   "id": "c0e6da69",
   "metadata": {},
   "source": [
    "13. Develop a program that counts the number of vowels in a string using a `for` loop."
   ]
  },
  {
   "cell_type": "code",
   "execution_count": 35,
   "id": "0200b82f",
   "metadata": {},
   "outputs": [
    {
     "name": "stdout",
     "output_type": "stream",
     "text": [
      "The number of vowels in the 'The greatest glory in living lies not in never falling, but in rising every time we fall'string is: 26\n"
     ]
    }
   ],
   "source": [
    "def vowels_count(input_string):\n",
    "    vowels=\"aeiouAEIOU\"\n",
    "    vowels_count=0\n",
    "    \n",
    "    for char in input_string:\n",
    "        if char in vowels:\n",
    "            vowels_count +=1 \n",
    "    return vowels_count\n",
    "\n",
    "input_string=input(\"Enter the string:\")\n",
    "result=vowels_count(input_string)\n",
    "print(f\"The number of vowels in the '{input_string}'string is: {result}\")"
   ]
  },
  {
   "cell_type": "markdown",
   "id": "9ad29f16",
   "metadata": {},
   "source": [
    "14. Write a program to find the maximum element in a 2D list using a nested `for` loop."
   ]
  },
  {
   "cell_type": "code",
   "execution_count": 46,
   "id": "5c133a7c",
   "metadata": {},
   "outputs": [
    {
     "name": "stdout",
     "output_type": "stream",
     "text": [
      "The maximum element in the 2D list is: 9\n"
     ]
    }
   ],
   "source": [
    "def matrix_element(matrix):\n",
    "    if not matrix or not matrix[0]:\n",
    "        return None\n",
    "    \n",
    "    max_element = matrix[0][0]\n",
    "\n",
    "    for row in matrix:\n",
    "        for element in row:\n",
    "            if element > max_element:\n",
    "                max_elment = element\n",
    "    return max_element\n",
    "\n",
    "matrix = [\n",
    "    [1, 2, 3],\n",
    "    [4, 5, 6],\n",
    "    [7, 8, 9]\n",
    "]\n",
    "\n",
    "result = find_max_element(matrix)\n",
    "\n",
    "if result is not None:\n",
    "    print(f\"The maximum element in the 2D list is: {result}\")\n",
    "else:\n",
    "    print(\"The matrix is empty.\")"
   ]
  },
  {
   "cell_type": "markdown",
   "id": "33ff8b78",
   "metadata": {},
   "source": [
    "15. Create a program that removes all occurrences of a specific element from a list using a `for` loop."
   ]
  },
  {
   "cell_type": "code",
   "execution_count": 49,
   "id": "67d89eea",
   "metadata": {},
   "outputs": [
    {
     "name": "stdout",
     "output_type": "stream",
     "text": [
      "The list after removing all occurrences of 2: [1, 3, 4, 5, 6, 4, 5, 8]\n"
     ]
    }
   ],
   "source": [
    "def remove_element(lst, target):\n",
    "    updated_list = [ element for element in lst if element != target]\n",
    "    return updated_list\n",
    "\n",
    "original_list = [1,2,3,4,5,6,4,5,2,8]\n",
    "element_to_remove= int(input(\"Enter the element you remove\"))\n",
    "\n",
    "new_list=remove_element(original_list, element_to_remove )\n",
    "print(f\"The list after removing all occurrences of {element_to_remove}: {new_list}\")"
   ]
  },
  {
   "cell_type": "markdown",
   "id": "f1d577fb",
   "metadata": {},
   "source": [
    "16. Develop a program that generates a multiplication table for numbers from 1 to 5 using a nested `for` loop."
   ]
  },
  {
   "cell_type": "code",
   "execution_count": 53,
   "id": "806613a4",
   "metadata": {},
   "outputs": [
    {
     "name": "stdout",
     "output_type": "stream",
     "text": [
      "Multiplication tabel for numbers 1 to 5\n",
      "Multiplication tabel for 1\n",
      "1x1=1\n",
      "1x2=2\n",
      "1x3=3\n",
      "1x4=4\n",
      "1x5=5\n",
      "1x6=6\n",
      "1x7=7\n",
      "1x8=8\n",
      "1x9=9\n",
      "1x10=10\n",
      "Multiplication tabel for 2\n",
      "2x1=2\n",
      "2x2=4\n",
      "2x3=6\n",
      "2x4=8\n",
      "2x5=10\n",
      "2x6=12\n",
      "2x7=14\n",
      "2x8=16\n",
      "2x9=18\n",
      "2x10=20\n",
      "Multiplication tabel for 3\n",
      "3x1=3\n",
      "3x2=6\n",
      "3x3=9\n",
      "3x4=12\n",
      "3x5=15\n",
      "3x6=18\n",
      "3x7=21\n",
      "3x8=24\n",
      "3x9=27\n",
      "3x10=30\n",
      "Multiplication tabel for 4\n",
      "4x1=4\n",
      "4x2=8\n",
      "4x3=12\n",
      "4x4=16\n",
      "4x5=20\n",
      "4x6=24\n",
      "4x7=28\n",
      "4x8=32\n",
      "4x9=36\n",
      "4x10=40\n",
      "Multiplication tabel for 5\n",
      "5x1=5\n",
      "5x2=10\n",
      "5x3=15\n",
      "5x4=20\n",
      "5x5=25\n",
      "5x6=30\n",
      "5x7=35\n",
      "5x8=40\n",
      "5x9=45\n",
      "5x10=50\n"
     ]
    }
   ],
   "source": [
    "def multiplication_tabel():\n",
    "    print(\"Multiplication tabel for numbers 1 to 5\")\n",
    "    for i in range(1,6):\n",
    "        print(f\"Multiplication tabel for {i}\")\n",
    "        for j in range(1,11):\n",
    "            result= i*j\n",
    "            print(f\"{i}x{j}={result}\")\n",
    "\n",
    "multiplication_tabel()"
   ]
  },
  {
   "cell_type": "markdown",
   "id": "c400c209",
   "metadata": {},
   "source": [
    "17. Write a program that converts a list of Fahrenheit temperatures to Celsius using a `for` loop."
   ]
  },
  {
   "cell_type": "code",
   "execution_count": 3,
   "id": "89819543",
   "metadata": {},
   "outputs": [
    {
     "name": "stdout",
     "output_type": "stream",
     "text": [
      "Fahrenheit temperatures: [32, 68, 104, 212]\n",
      "Celsius temperatures: [0.0, 20.0, 40.0, 100.0]\n"
     ]
    }
   ],
   "source": [
    "def fahrenheit_celsius(fahrenheit_temp):\n",
    "    celsius_temp=[]\n",
    "\n",
    "    for fahrenheit in fahrenheit_temp:\n",
    "        celsius=(fahrenheit-32)*5/9\n",
    "        celsius_temp.append(celsius)\n",
    "    return celsius_temp\n",
    "\n",
    "fahrenheit_list = [32, 68, 104, 212]\n",
    "celsius_result = fahrenheit_celsius(fahrenheit_list)\n",
    "\n",
    "print(\"Fahrenheit temperatures:\", fahrenheit_list)\n",
    "print(\"Celsius temperatures:\", celsius_result)"
   ]
  },
  {
   "cell_type": "markdown",
   "id": "8db2cb44",
   "metadata": {},
   "source": [
    "18. Create a program to print the common elements from two lists using a `for` loop."
   ]
  },
  {
   "cell_type": "code",
   "execution_count": 5,
   "id": "646dbb67",
   "metadata": {},
   "outputs": [
    {
     "name": "stdout",
     "output_type": "stream",
     "text": [
      "Common elements: [2, 4]\n"
     ]
    }
   ],
   "source": [
    "def find_commmon_element(lst1,lst2):\n",
    "    commmon_element=[]\n",
    "\n",
    "    for element in lst1:\n",
    "        if element in lst2:\n",
    "            commmon_element.append(element)\n",
    "    return commmon_element\n",
    "list1=[2,4,6,8,10]\n",
    "list2=[1,2,3,4,5,]\n",
    "result=find_commmon_element(list1,list2)\n",
    "\n",
    "if result:\n",
    "    print(\"Common elements:\",result)\n",
    "else:\n",
    "    print(\"No common elements found.\")"
   ]
  },
  {
   "cell_type": "markdown",
   "id": "40717b39",
   "metadata": {},
   "source": [
    "19. Develop a program that prints the pattern of right-angled triangles using a `for` loop. Use ‘*’ to draw the\n",
    "pattern"
   ]
  },
  {
   "cell_type": "code",
   "execution_count": 8,
   "id": "1b4eb238",
   "metadata": {},
   "outputs": [
    {
     "name": "stdout",
     "output_type": "stream",
     "text": [
      "* \n",
      "* * \n",
      "* * * \n",
      "* * * * \n",
      "* * * * * \n",
      "* * * * * * \n",
      "* * * * * * * \n",
      "* * * * * * * * \n",
      "* * * * * * * * * \n",
      "* * * * * * * * * * \n"
     ]
    }
   ],
   "source": [
    "def right_angled_triangles(rows):\n",
    "    for i in range(1, rows+1):\n",
    "        for j in range(i):\n",
    "            print(\"*\",end=\" \")\n",
    "        print()\n",
    "\n",
    "num_rows = int(input(\"Enter the number of rows for the right-angled triangles: \"))\n",
    "right_angled_triangles(num_rows)"
   ]
  },
  {
   "cell_type": "markdown",
   "id": "918a7da6",
   "metadata": {},
   "source": [
    "20. Write a program to find the greatest common divisor (GCD) of two numbers using a `for` loop."
   ]
  },
  {
   "cell_type": "code",
   "execution_count": 17,
   "id": "5b5e911e",
   "metadata": {},
   "outputs": [
    {
     "name": "stdout",
     "output_type": "stream",
     "text": [
      "The GCD of 10 and 6 is: 2\n"
     ]
    }
   ],
   "source": [
    "def find_gcd(num1,num2):\n",
    "    if num1<num2:\n",
    "        num1 , num2= num2, num1\n",
    "\n",
    "    for i in range(num2,0,-1):\n",
    "        if num1 % i==0 and num2 % i==0:\n",
    "            return i\n",
    "    return 1\n",
    "number1=int(input(\"Enter the first number:\"))\n",
    "number2=int(input(\"Enter the first number:\"))\n",
    "\n",
    "result=find_gcd(number1,number2)\n",
    "print(f\"The GCD of {number1} and {number2} is: {result}\")"
   ]
  },
  {
   "cell_type": "markdown",
   "id": "7a59f011",
   "metadata": {},
   "source": [
    "# Advanced Level:"
   ]
  },
  {
   "cell_type": "markdown",
   "id": "3183a6b0",
   "metadata": {},
   "source": [
    "21. Create a program that calculates the sum of the digits of numbers in a list using a list comprehension."
   ]
  },
  {
   "cell_type": "code",
   "execution_count": 21,
   "id": "4256b8f1",
   "metadata": {},
   "outputs": [
    {
     "name": "stdout",
     "output_type": "stream",
     "text": [
      "For sum of digits for each number in the list is: [29, 11, 32] \n"
     ]
    }
   ],
   "source": [
    "def sum_of_digits(numbers):\n",
    "    return [sum(int(digits) for digits in str(num)) for num in numbers]\n",
    "\n",
    "num_list=[8399,2441,7889]\n",
    "result=sum_of_digits(num_list)\n",
    "\n",
    "print(f\"For sum of digits for each number in the list is: {result} \")"
   ]
  },
  {
   "cell_type": "markdown",
   "id": "6c3a8cec",
   "metadata": {},
   "source": [
    "22. Write a program to find the prime factors of a given number using a `for` loop and list comprehension."
   ]
  },
  {
   "cell_type": "code",
   "execution_count": 32,
   "id": "44a23e74",
   "metadata": {},
   "outputs": [
    {
     "name": "stdout",
     "output_type": "stream",
     "text": [
      "The prime factors of 24 are:[2, 3]\n"
     ]
    }
   ],
   "source": [
    "def prime_factors(numbers):\n",
    "   return [factor for factor in range(2, numbers +1) if numbers % factor == 0 and all(factor % i != 0 for i in range (2,int(factor**0.5) + 1))]\n",
    "\n",
    "input_numbers = int(input(\"Enter a number to find its prime factors: \"))\n",
    "result=prime_factors(input_numbers)\n",
    "if result:\n",
    "   print(f\"The prime factors of {input_numbers} are:{result}\")\n",
    "else:\n",
    "   print(f\"The {input_numbers} has no prime factors other than 1 and itself\")\n"
   ]
  },
  {
   "cell_type": "markdown",
   "id": "74416827",
   "metadata": {},
   "source": [
    "23. Develop a program that extracts unique elements from a list and stores them in a new list using a list\n",
    "comprehension."
   ]
  },
  {
   "cell_type": "code",
   "execution_count": 2,
   "id": "64a5ab4b",
   "metadata": {},
   "outputs": [
    {
     "name": "stdout",
     "output_type": "stream",
     "text": [
      "Original list: [1, 2, 3, 3, 4, 4, 5, 5, 6, 6, 7, 7, 8, 8, 9, 9, 9]\n",
      "Uniqe list: [1, 2, 3, 4, 5, 6, 7, 8, 9]\n"
     ]
    }
   ],
   "source": [
    "def extract_uniqe_element(input_list):\n",
    "    return [x for i,x in enumerate(input_list) if input_list.index(x)==i]\n",
    "\n",
    "original_list=[1,2,3,3,4,4,5,5,6,6,7,7,8,8,9,9,9]\n",
    "uniqe_element=extract_uniqe_element(original_list)\n",
    "\n",
    "print(\"Original list:\",original_list)\n",
    "print(\"Uniqe list:\",uniqe_element)"
   ]
  },
  {
   "cell_type": "markdown",
   "id": "6e901b9b",
   "metadata": {},
   "source": [
    "24. Create a program that generates a list of all palindromic numbers up to a specified limit using a list\n",
    "comprehension."
   ]
  },
  {
   "cell_type": "code",
   "execution_count": 10,
   "id": "9c6aadba",
   "metadata": {},
   "outputs": [
    {
     "name": "stdout",
     "output_type": "stream",
     "text": [
      "Palindromic numbers upto 88 : [0, 1, 2, 3, 4, 5, 6, 7, 8, 9, 11, 22, 33, 44, 55, 66, 77]\n"
     ]
    }
   ],
   "source": [
    "def is_palindraomic(num):\n",
    "    return str(num)==str(num)[::-1]\n",
    "\n",
    "def generated_palindromic(limit):\n",
    "    return [num for num in range(limit) if is_palindraomic(num)]\n",
    "\n",
    "upper_limit=int(input(\"Enter the upper limit:\"))\n",
    "palindramic_number=generated_palindromic(upper_limit)\n",
    "\n",
    "print(\"Palindromic numbers upto\", upper_limit ,\":\", palindramic_number)"
   ]
  },
  {
   "cell_type": "markdown",
   "id": "cefc9adf",
   "metadata": {},
   "source": [
    "25. Write a program to flatten a nested list using list comprehension."
   ]
  },
  {
   "cell_type": "code",
   "execution_count": 12,
   "id": "827f5228",
   "metadata": {},
   "outputs": [
    {
     "name": "stdout",
     "output_type": "stream",
     "text": [
      "Original nested list: [[1, 2, [3, 4]], [5, [6, 7]], 8, [9, 10]]\n",
      "Flattened list: [1, 2, 3, 4, 5, 6, 7, 8, 9, 10]\n"
     ]
    }
   ],
   "source": [
    "def flatten_list(nested_list):\n",
    "    return[item for sublist in nested_list for item in (flatten_list(sublist) if isinstance(sublist,list)else [sublist])]\n",
    "\n",
    "nested_list = [[1, 2, [3, 4]], [5, [6, 7]], 8, [9, 10]]\n",
    "flattened_list = flatten_list(nested_list)\n",
    "\n",
    "print(\"Original nested list:\", nested_list)\n",
    "print(\"Flattened list:\", flattened_list)\n"
   ]
  },
  {
   "cell_type": "markdown",
   "id": "93f30a21",
   "metadata": {},
   "source": [
    "26. Develop a program that computes the sum of even and odd numbers in a list separately using list\n",
    "comprehension."
   ]
  },
  {
   "cell_type": "code",
   "execution_count": 14,
   "id": "c3b270b7",
   "metadata": {},
   "outputs": [
    {
     "name": "stdout",
     "output_type": "stream",
     "text": [
      "Original list: [1, 2, 3, 4, 5, 6, 7, 8, 9]\n",
      "Sum of even numbers: 20\n",
      "Sum of odd numbers: 25\n"
     ]
    }
   ],
   "source": [
    "def sum_of_even_odd_num(numbers):\n",
    "    even_numbers=sum(num for num in numbers if num % 2==0)\n",
    "    odd_numbers= sum(num for num in numbers if num % 2 !=0)\n",
    "    return even_numbers, odd_numbers\n",
    "\n",
    "number_list=[1,2,3,4,5,6,7,8,9]\n",
    "even_sum, odd_sum=sum_of_even_odd_num(number_list)\n",
    "\n",
    "print(\"Original list:\", number_list)\n",
    "print(\"Sum of even numbers:\", even_sum)\n",
    "print(\"Sum of odd numbers:\", odd_sum)"
   ]
  },
  {
   "cell_type": "markdown",
   "id": "c97dfb33",
   "metadata": {},
   "source": [
    "27. Create a program that generates a list of squares of odd numbers between 1 and 10 using list\n",
    "comprehension."
   ]
  },
  {
   "cell_type": "code",
   "execution_count": 17,
   "id": "f4a8fae1",
   "metadata": {},
   "outputs": [
    {
     "name": "stdout",
     "output_type": "stream",
     "text": [
      "List of squares of odd numbers between 1 and 10: [1, 9, 25, 49, 81]\n"
     ]
    }
   ],
   "source": [
    "squares_of_odd_num=[num ** 2 for num in range(1,11) if num % 2!=0]\n",
    "print(\"List of squares of odd numbers between 1 and 10:\", squares_of_odd_num)"
   ]
  },
  {
   "cell_type": "markdown",
   "id": "d202eae5",
   "metadata": {},
   "source": [
    "28. Write a program that combines two lists into a dictionary using list comprehension."
   ]
  },
  {
   "cell_type": "code",
   "execution_count": 18,
   "id": "c723e6df",
   "metadata": {},
   "outputs": [
    {
     "name": "stdout",
     "output_type": "stream",
     "text": [
      "Combined dictionary: {'a': 4, 'b': 5, 'c': 6}\n"
     ]
    }
   ],
   "source": [
    "keys=['a','b','c']\n",
    "values=[4,5,6]\n",
    "\n",
    "combination_dict={k: v for k, v in zip(keys, values)}\n",
    "\n",
    "print(\"Combined dictionary:\",combination_dict)"
   ]
  },
  {
   "cell_type": "markdown",
   "id": "7b1e5af7",
   "metadata": {},
   "source": [
    "29. Develop a program that extracts the vowels from a string and stores them in a list using list comprehension."
   ]
  },
  {
   "cell_type": "code",
   "execution_count": 24,
   "id": "a07ca658",
   "metadata": {},
   "outputs": [
    {
     "name": "stdout",
     "output_type": "stream",
     "text": [
      "'cowards die many timess thier death' Vowels in this string: ['o', 'a', 'i', 'e', 'a', 'i', 'e', 'i', 'e', 'e', 'a']\n"
     ]
    }
   ],
   "source": [
    "def extracts_the_vowels(input_string):\n",
    "    vowels=\"aeiouAEIOU\"\n",
    "    return [char for char in input_string if char in vowels]\n",
    "\n",
    "input_string=input(\"Enter the string\")\n",
    "vowels_list=extracts_the_vowels(input_string)\n",
    "\n",
    "print(f\"'{input_string}' Vowels in this string:\", vowels_list)"
   ]
  },
  {
   "cell_type": "markdown",
   "id": "74f48139",
   "metadata": {},
   "source": [
    "30. Create a program that removes all non-numeric characters from a list of strings using list comprehension."
   ]
  },
  {
   "cell_type": "code",
   "execution_count": 28,
   "id": "f39d0661",
   "metadata": {},
   "outputs": [
    {
     "name": "stdout",
     "output_type": "stream",
     "text": [
      "Original list of strings: ['Rudra123', '45def', '6ghi', '789jkl']\n",
      "List with non-numeric characters removed: ['123', '45', '6', '789']\n"
     ]
    }
   ],
   "source": [
    "def remove_non_numeric(strings_list):\n",
    "    return [''.join(char for  char in string if char.isdigit())for string in strings_list]\n",
    "\n",
    "strings_list = ['Rudra123', '45def', '6ghi', '789jkl']\n",
    "numeric_strings = remove_non_numeric(strings_list)\n",
    "\n",
    "print(\"Original list of strings:\", strings_list)\n",
    "print(\"List with non-numeric characters removed:\", numeric_strings)\n"
   ]
  },
  {
   "cell_type": "markdown",
   "id": "00017e87",
   "metadata": {},
   "source": [
    "# Challenge Level:"
   ]
  },
  {
   "cell_type": "markdown",
   "id": "6ce82f6c",
   "metadata": {},
   "source": [
    "31. Write a program to generate a list of prime numbers using the Sieve of Eratosthenes algorithm and list\n",
    "comprehension."
   ]
  },
  {
   "cell_type": "code",
   "execution_count": 5,
   "id": "fc2a7db4",
   "metadata": {},
   "outputs": [
    {
     "name": "stdout",
     "output_type": "stream",
     "text": [
      "Prime numbers up to 55 : [2, 3, 5, 7, 11, 13, 17, 19, 23, 29, 31, 37, 41, 43, 47, 53]\n"
     ]
    }
   ],
   "source": [
    "def sieve_eratosthenes(n):\n",
    "    primes=[True] * (n+1)\n",
    "    primes[0]=primes[1]=False\n",
    "    \n",
    "    for i in range(2,int(n**0.5)+1):\n",
    "        if primes[i]:\n",
    "            primes[i*i:n+1:i] = [False]*((n-i*i)//i+1)\n",
    "    return [i for i, prime in enumerate(primes) if prime]\n",
    "limit=int(input(\"Enter the upper limit to generate prime numbers: \"))\n",
    "prime_no =sieve_eratosthenes(limit)\n",
    "print(\"Prime numbers up to\", limit, \":\", prime_no)"
   ]
  },
  {
   "cell_type": "markdown",
   "id": "50120542",
   "metadata": {},
   "source": [
    "32. Create a program that generates a list of all Pythagorean triplets up to a specified limit using list\n",
    "comprehension."
   ]
  },
  {
   "cell_type": "code",
   "execution_count": 10,
   "id": "28a70f17",
   "metadata": {},
   "outputs": [
    {
     "name": "stdout",
     "output_type": "stream",
     "text": [
      "Prime numbers up to 9 : [(3, 4, 5)]\n"
     ]
    }
   ],
   "source": [
    "def pythagorean_triplets(limit):\n",
    "    return [(a,b,c) for a in range(1, limit+1)\n",
    "                    for b in range(a, limit+1)\n",
    "                    for c in range(b, limit+1)\n",
    "                    if a**2 + b**2== c**2]\n",
    "\n",
    "limit=int(input(\"Enter the upper limit to generate prime numbers: \"))\n",
    "triplets =pythagorean_triplets(limit)\n",
    "print(\"Prime numbers up to\", limit, \":\", triplets)"
   ]
  },
  {
   "cell_type": "markdown",
   "id": "53d51f8d",
   "metadata": {},
   "source": [
    "33. Develop a program that generates a list of all possible combinations of two lists using list comprehension."
   ]
  },
  {
   "cell_type": "code",
   "execution_count": 16,
   "id": "b25651c5",
   "metadata": {},
   "outputs": [
    {
     "name": "stdout",
     "output_type": "stream",
     "text": [
      "All possible combinations of two lists:\n",
      "(7, 'a')\n",
      "(7, 'b')\n",
      "(7, 'c')\n",
      "(8, 'a')\n",
      "(8, 'b')\n",
      "(8, 'c')\n",
      "(9, 'a')\n",
      "(9, 'b')\n",
      "(9, 'c')\n"
     ]
    }
   ],
   "source": [
    "def combine_lists(list1, list2):\n",
    "    return [(x,y) for x in list1 for y in list2]\n",
    "\n",
    "list1=[7,8,9]\n",
    "list2=['a','b','c']\n",
    "combinations=combine_lists(list1,list2)\n",
    "\n",
    "print(\"All possible combinations of two lists:\")\n",
    "\n",
    "for combination in combinations:\n",
    "    print(combination)"
   ]
  },
  {
   "cell_type": "markdown",
   "id": "2fc51cae",
   "metadata": {},
   "source": [
    "34. Write a program that calculates the mean, median, and mode of a list of numbers using list\n",
    "comprehension."
   ]
  },
  {
   "cell_type": "code",
   "execution_count": 29,
   "id": "bd6a7257",
   "metadata": {},
   "outputs": [
    {
     "name": "stdout",
     "output_type": "stream",
     "text": [
      "Mean: 5.0\n",
      "Median: 5.0\n",
      "Mode: [5]\n"
     ]
    }
   ],
   "source": [
    "from collections import Counter\n",
    "\n",
    "def calculate_mean(numbers):\n",
    "    return sum(numbers)/len(numbers)\n",
    "\n",
    "def calculate_median(numbers):\n",
    "    sorted_no=sorted(numbers)\n",
    "    n=len(sorted_no)\n",
    "    if n % 2 ==  0:\n",
    "        return(sorted_no[n//2-1]+sorted_no[n//2])/2\n",
    "    else:\n",
    "        return sorted_no[n//2]\n",
    "\n",
    "def calculate_mode(numbers):\n",
    "    counts=Counter(numbers)\n",
    "    max_count=max(counts.values())\n",
    "    return [num for num, count in counts.items() if count==max_count]\n",
    "\n",
    "list=[1,2,3,4,5,5,6,7,8,9]\n",
    "mean=calculate_mean(list)\n",
    "median=calculate_median(list)\n",
    "mode=calculate_mode(list)\n",
    "\n",
    "print(\"Mean:\", mean)\n",
    "print(\"Median:\", median)\n",
    "print(\"Mode:\", mode)"
   ]
  },
  {
   "cell_type": "markdown",
   "id": "0d1d6940",
   "metadata": {},
   "source": [
    "35. Create a program that generates Pascal's triangle up to a specified number of rows using list\n",
    "comprehension."
   ]
  },
  {
   "cell_type": "code",
   "execution_count": 3,
   "id": "b35b3596",
   "metadata": {},
   "outputs": [
    {
     "name": "stdout",
     "output_type": "stream",
     "text": [
      "Pascal's triangle:\n",
      "                     1                      \n",
      "                    1 1                     \n",
      "                   1 2 1                    \n",
      "                  1 3 3 1                   \n",
      "                 1 4 6 4 1                  \n",
      "               1 5 10 10 5 1                \n",
      "              1 6 15 20 15 6 1              \n",
      "            1 7 21 35 35 21 7 1             \n",
      "           1 8 28 56 70 56 28 8 1           \n",
      "        1 9 36 84 126 126 84 36 9 1         \n",
      "    1 10 45 120 210 252 210 120 45 10 1     \n"
     ]
    }
   ],
   "source": [
    "def  generates_Pascal_triangle(num_rows):\n",
    "    triangel=[[1]]\n",
    "    for _ in range(num_rows - 1):\n",
    "        prev_row=triangel[-1]\n",
    "        new_row=[1]+[prev_row[i] + prev_row[i+1] for i in range(len(prev_row)-1)] +[1]\n",
    "        triangel.append(new_row)\n",
    "    return triangel\n",
    "\n",
    "def print_Pascal_triangle(triangel):\n",
    "    for row in triangel:\n",
    "        print(' '.join(map(str,row)).center(len(triangel[-1]*4)))\n",
    "\n",
    "num_rows=int(input(\"Enter the number of rows for Pascal's triangle: \"))\n",
    "triangel=generates_Pascal_triangle(num_rows)\n",
    "print(\"Pascal's triangle:\")\n",
    "print_Pascal_triangle(triangel)        "
   ]
  },
  {
   "cell_type": "markdown",
   "id": "537240be",
   "metadata": {},
   "source": [
    "36. Develop a program that calculates the sum of the digits of a factorial of numbers from 1 to 5 using list\n",
    "comprehension."
   ]
  },
  {
   "cell_type": "code",
   "execution_count": 14,
   "id": "566848b8",
   "metadata": {},
   "outputs": [
    {
     "name": "stdout",
     "output_type": "stream",
     "text": [
      "Factorial and sum of digits for numbers from 1 to 5:\n",
      "Factorial of 1 : 1, sum of digits: 1\n",
      "Factorial of 2 : 2, sum of digits: 2\n",
      "Factorial of 3 : 6, sum of digits: 6\n",
      "Factorial of 4 : 24, sum of digits: 6\n",
      "Factorial of 5 : 120, sum of digits: 3\n"
     ]
    }
   ],
   "source": [
    "def factorial(n):\n",
    "    if n==0 or n==1:\n",
    "        return 1\n",
    "    else:\n",
    "        return n * factorial(n-1)\n",
    "    \n",
    "def sum_of_digit(number):\n",
    "    return sum(int(digit) for digit in str(number))\n",
    "\n",
    "factorial_n_sums= [(n, factorial(n), sum_of_digit(factorial(n)))for  n in range (1,6)]\n",
    "\n",
    "print(\"Factorial and sum of digits for numbers from 1 to 5:\")\n",
    "for n, fact, digit_sum in factorial_n_sums:\n",
    "    print(f\"Factorial of {n} : {fact}, sum of digits: {digit_sum}\")"
   ]
  },
  {
   "cell_type": "markdown",
   "id": "1e6b1c54",
   "metadata": {},
   "source": [
    "37. Write a program that finds the longest word in a sentence using list comprehension."
   ]
  },
  {
   "cell_type": "code",
   "execution_count": 15,
   "id": "072ecb6f",
   "metadata": {},
   "outputs": [
    {
     "name": "stdout",
     "output_type": "stream",
     "text": [
      "Longest word in the sentence: cowards\n"
     ]
    }
   ],
   "source": [
    "sentence=input(\"Enter the sentence:\")\n",
    "longest_word=max((word for word in sentence.split()), key= len)\n",
    "print(\"Longest word in the sentence:\",longest_word)"
   ]
  },
  {
   "cell_type": "markdown",
   "id": "2f8cd0e3",
   "metadata": {},
   "source": [
    "38. Create a program that filters a list of strings to include only those with more than three vowels using list\n",
    "comprehension."
   ]
  },
  {
   "cell_type": "code",
   "execution_count": 21,
   "id": "ec0a872d",
   "metadata": {},
   "outputs": [
    {
     "name": "stdout",
     "output_type": "stream",
     "text": [
      "Strings with more than three vowels: ['language']\n"
     ]
    }
   ],
   "source": [
    "def count_vowels(word):\n",
    "    return sum(1 for char in word if char.lower() in 'aeiou')\n",
    "string_list=[\"Plamage\",\"Preening\",\"Twitched\",\"Radical\",\"Egoist\",\"language\"]\n",
    "filter_list=[word for word in string_list if count_vowels(word)>3]\n",
    "print(\"Strings with more than three vowels:\", filter_list)"
   ]
  },
  {
   "cell_type": "markdown",
   "id": "c0b6f210",
   "metadata": {},
   "source": [
    "39. Develop a program that calculates the sum of the digits of numbers from 1 to 1000 using list\n",
    "comprehension."
   ]
  },
  {
   "cell_type": "code",
   "execution_count": 25,
   "id": "18ffeec8",
   "metadata": {},
   "outputs": [
    {
     "name": "stdout",
     "output_type": "stream",
     "text": [
      "Sum of digits of numbers from 1 to 1000: 13501\n"
     ]
    }
   ],
   "source": [
    "def sum_of_digit(numbers):\n",
    "    return sum(int(digit) for digit in str(numbers))\n",
    "\n",
    "sum_of_digit_list=[sum_of_digit(num) for num in range(1,1001)]\n",
    "total_sum=sum(sum_of_digit_list)\n",
    "print(\"Sum of digits of numbers from 1 to 1000:\", total_sum)"
   ]
  },
  {
   "cell_type": "markdown",
   "id": "05248f86",
   "metadata": {},
   "source": [
    "40. Write a program that generates a list of prime palindromic numbers using list comprehension."
   ]
  },
  {
   "cell_type": "code",
   "execution_count": 26,
   "id": "e638c2fe",
   "metadata": {},
   "outputs": [
    {
     "name": "stdout",
     "output_type": "stream",
     "text": [
      "Prime palindromic numbers up to 1000: [2, 3, 5, 7, 11, 101, 131, 151, 181, 191, 313, 353, 373, 383, 727, 757, 787, 797, 919, 929]\n"
     ]
    }
   ],
   "source": [
    "def is_prime(num):\n",
    "    if num < 2:\n",
    "        return False\n",
    "    for i in range(2, int(num**0.5)+1):\n",
    "        if num % i==0:\n",
    "            return False\n",
    "    return True\n",
    "\n",
    "def is_palindromic(num):\n",
    "    return str(num) ==str(num)[::-1]\n",
    "\n",
    "prime_palindromic_numbers=[num for  num in range (2,1000) if is_prime(num) and is_palindromic(num)]\n",
    "\n",
    "print(\"Prime palindromic numbers up to 1000:\", prime_palindromic_numbers)"
   ]
  }
 ],
 "metadata": {
  "kernelspec": {
   "display_name": "Python 3 (ipykernel)",
   "language": "python",
   "name": "python3"
  },
  "language_info": {
   "codemirror_mode": {
    "name": "ipython",
    "version": 3
   },
   "file_extension": ".py",
   "mimetype": "text/x-python",
   "name": "python",
   "nbconvert_exporter": "python",
   "pygments_lexer": "ipython3",
   "version": "3.11.3"
  }
 },
 "nbformat": 4,
 "nbformat_minor": 5
}
